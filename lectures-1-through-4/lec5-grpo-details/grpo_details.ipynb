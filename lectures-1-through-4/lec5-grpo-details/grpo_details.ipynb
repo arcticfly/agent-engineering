{
 "cells": [
  {
   "cell_type": "markdown",
   "metadata": {},
   "source": [
    "## Production-Ready Agent Engineering: From MCP to RL\n",
    "\n",
    "### Lecture 5.5: GRPO Details\n",
    "\n",
    "**Instructor: Will Brown**\n",
    "\n",
    "*Date: July 2, 2025*\n",
    "\n",
    "### Infrastructure + Implementation Details\n",
    "\n",
    "\n",
    "- https://www.anyscale.com/blog/open-source-rl-libraries-for-llms"
   ]
  },
  {
   "cell_type": "markdown",
   "metadata": {},
   "source": [
    "### VRAM Napkin Math\n",
    "\n",
    "\n",
    "- 7B model (parameters)\n",
    "- bfloat16 = 2 bytes = 16 bits\n",
    "- 14GB of VRAM for model\n",
    "- Copy of reference model in memory\n",
    "- AdamW optimizer (fp32) = 4x model size\n",
    "    - 1st moment\n",
    "    - 2nd moment\n",
    "- PPO = 10x\n",
    "\n",
    "\n",
    "- LoRA:\n",
    "    - Generally safe to set beta = 0 *if* using LoRA\n",
    "\n",
    "\n",
    "### GRPO Implementation Details\n",
    "- Tool call masking\n",
    "- KL penalties\n",
    "- Length penalties\n",
    "- Length filtering\n",
    "- Think token removal\n",
    "- Dynamic sampling\n",
    "- VinePPO (think GRPO + MCTS)\n",
    "- LLM judge scaling (round robin, reasoning)\n",
    "\n",
    "\n",
    "(see recording for more)"
   ]
  }
 ],
 "metadata": {
  "language_info": {
   "name": "python"
  }
 },
 "nbformat": 4,
 "nbformat_minor": 2
}
